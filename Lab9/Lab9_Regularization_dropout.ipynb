{
  "nbformat": 4,
  "nbformat_minor": 0,
  "metadata": {
    "colab": {
      "provenance": [],
      "include_colab_link": true
    },
    "kernelspec": {
      "name": "python3",
      "display_name": "Python 3"
    },
    "language_info": {
      "name": "python"
    }
  },
  "cells": [
    {
      "cell_type": "markdown",
      "metadata": {
        "id": "view-in-github",
        "colab_type": "text"
      },
      "source": [
        "<a href=\"https://colab.research.google.com/github/MariaShaiina/Marathon_DL_SSAU_2023/blob/main/Lab9/Lab9_Regularization_dropout.ipynb\" target=\"_parent\"><img src=\"https://colab.research.google.com/assets/colab-badge.svg\" alt=\"Open In Colab\"/></a>"
      ]
    },
    {
      "cell_type": "markdown",
      "source": [
        "\n",
        "\n",
        "\n",
        "Шаина Мария гр. 6231-010402D"
      ],
      "metadata": {
        "id": "27TFiWA3tmW_"
      }
    },
    {
      "cell_type": "markdown",
      "source": [
        "## **Лабораторная работа №9**\n",
        "\n"
      ],
      "metadata": {
        "id": "vFQirj0Kt1r9"
      }
    },
    {
      "cell_type": "markdown",
      "source": [
        "**Реализовать алгоритм обратного dropout для задачи классификации MNIST из предыдущего задания (для двух видов градиентного спуска):**\n",
        "\n",
        "На этапе обучения сети (прямое распространение):\n",
        "\n",
        "  1. генерируете случайную маску из нулей и единиц для слоя layer_1 с вероятностью p=0.5(можно использовать np.random.randint), либо найдите функцию для распределения Бернулли (биномиальное распределение)\n",
        "  2. Умножаете выход слоя layer_1 на маску\n",
        "  3. Умножаете  результат в пункте 2 на 1/(1-p)\n",
        "\n",
        "  4. учесть применение слоя дропаут при обратном распространении сети\n",
        "\n",
        "\n",
        "  На этапе тестирования сети:\n",
        "\n",
        "  5. Обычное прямое распространение без dropout. Все как и раньше.\n"
      ],
      "metadata": {
        "id": "DTc1ccEbtnGQ"
      }
    },
    {
      "cell_type": "code",
      "source": [
        "import numpy as np\n",
        "import matplotlib.pyplot as plt\n",
        "\n",
        "from sklearn import preprocessing\n",
        "from sklearn.metrics import accuracy_score\n",
        "from keras.datasets import mnist\n",
        "from keras.utils import to_categorical\n",
        "\n",
        "from scipy.stats import bernoulli"
      ],
      "metadata": {
        "id": "9bgTRfMvvEpb"
      },
      "execution_count": 1,
      "outputs": []
    },
    {
      "cell_type": "code",
      "source": [
        "#loading the dataset\n",
        "(train_X, train_y), (test_X, test_y) = mnist.load_data()"
      ],
      "metadata": {
        "id": "ANGgqoehy9q_"
      },
      "execution_count": 2,
      "outputs": []
    },
    {
      "cell_type": "code",
      "source": [
        "train_X.shape, test_X.shape"
      ],
      "metadata": {
        "colab": {
          "base_uri": "https://localhost:8080/"
        },
        "id": "rDRLjc1n0kNh",
        "outputId": "f0c3c48b-bcfd-45f5-c1f9-cfa2d06b0a63"
      },
      "execution_count": 3,
      "outputs": [
        {
          "output_type": "execute_result",
          "data": {
            "text/plain": [
              "((60000, 28, 28), (10000, 28, 28))"
            ]
          },
          "metadata": {},
          "execution_count": 3
        }
      ]
    },
    {
      "cell_type": "markdown",
      "source": [
        "Нормализуем данные"
      ],
      "metadata": {
        "id": "75VXwePu1QCt"
      }
    },
    {
      "cell_type": "code",
      "source": [
        "# Имеем картинки 28х28, на выходе получаем вектор из 784 значений (0,1)\n",
        "X_train_vec = train_X.reshape((-1, 28*28)) / 255\n",
        "X_test_vec = test_X.reshape((-1, 28*28)) / 255"
      ],
      "metadata": {
        "id": "iEWsAf_FzFHB"
      },
      "execution_count": 4,
      "outputs": []
    },
    {
      "cell_type": "code",
      "source": [
        "X_train_vec.shape, X_test_vec.shape"
      ],
      "metadata": {
        "colab": {
          "base_uri": "https://localhost:8080/"
        },
        "id": "6ujTZRid0VEj",
        "outputId": "84aed62c-e7d6-42fc-9467-1beff512acf6"
      },
      "execution_count": 5,
      "outputs": [
        {
          "output_type": "execute_result",
          "data": {
            "text/plain": [
              "((60000, 784), (10000, 784))"
            ]
          },
          "metadata": {},
          "execution_count": 5
        }
      ]
    },
    {
      "cell_type": "code",
      "source": [
        "# кодируем метки классов (one-hot encoding)\n",
        "print(\"Test Original Labels:\", test_y, sep='\\n')\n",
        "\n",
        "test_y = to_categorical(test_y, num_classes=10)\n",
        "train_y = to_categorical(train_y, num_classes=10)\n",
        "\n",
        "print(\"\\nTest One-Hot Encoded labels:\", test_y, sep='\\n')"
      ],
      "metadata": {
        "colab": {
          "base_uri": "https://localhost:8080/"
        },
        "id": "lTOOb7Wf1GIa",
        "outputId": "3287da1a-79d4-415e-cfce-9da0ed07f482"
      },
      "execution_count": 6,
      "outputs": [
        {
          "output_type": "stream",
          "name": "stdout",
          "text": [
            "Test Original Labels:\n",
            "[7 2 1 ... 4 5 6]\n",
            "\n",
            "Test One-Hot Encoded labels:\n",
            "[[0. 0. 0. ... 1. 0. 0.]\n",
            " [0. 0. 1. ... 0. 0. 0.]\n",
            " [0. 1. 0. ... 0. 0. 0.]\n",
            " ...\n",
            " [0. 0. 0. ... 0. 0. 0.]\n",
            " [0. 0. 0. ... 0. 0. 0.]\n",
            " [0. 0. 0. ... 0. 0. 0.]]\n"
          ]
        }
      ]
    },
    {
      "cell_type": "code",
      "source": [
        "def relu(x):\n",
        "    return (x > 0) * x # returns x if x > 0\n",
        "                       # return 0 otherwise\n",
        "\n",
        "def relu2deriv(output):\n",
        "    return output>0 # returns 1 for input > 0\n",
        "                    # return 0 otherwise\n",
        "\n",
        "# Функция softmax для выходного слоя\n",
        "def softmax(x):\n",
        "    exp_values = np.exp(x - np.max(x, axis=1, keepdims=True))\n",
        "    return exp_values / np.sum(exp_values, axis=1, keepdims=True)\n",
        "\n",
        "\n",
        "def model_prediction(input, weights_0_1, weights_1_2, dropout_mask, p):\n",
        "  #forward pass\n",
        "  layer_0 = input\n",
        "  layer_1 = relu(np.dot(layer_0,weights_0_1))\n",
        "  layer_1 *= dropout_mask  # applying dropout to layer_1\n",
        "  layer_1 /= (1 - p)  # invert dropout during testing\n",
        "  layer_2 = np.dot(layer_1,weights_1_2)\n",
        "  return layer_0, layer_1, layer_2"
      ],
      "metadata": {
        "id": "3htk1_-mTP_E"
      },
      "execution_count": 7,
      "outputs": []
    },
    {
      "cell_type": "markdown",
      "source": [
        "СГС с DropOut"
      ],
      "metadata": {
        "id": "pYWyiOftfrkH"
      }
    },
    {
      "cell_type": "code",
      "source": [
        "np.random.seed(1)  # constant random values ​​during experimentation\n",
        "\n",
        "p = 0.5 #узлы исключаются из сети с вероятностью 1-р, либо сохраняются с вероятностью р\n",
        "\n",
        "# Создаем списки для хранения значений ошибки и точности на каждой итерации\n",
        "train_accuracy_hist = []\n",
        "train_error_hist = []\n",
        "iteration_hist = []\n",
        "\n",
        "# Определение гиперпараметров\n",
        "learning_rate = 0.003\n",
        "hidden_size = 40\n",
        "input_size = X_train_vec.shape[1]  # 784\n",
        "num_labels = train_y.shape[1]  # 10\n",
        "iterations = 10\n",
        "\n",
        "weights_0_1 = (2 * np.random.random((input_size, hidden_size)) - 1) / np.sqrt(input_size)  # веса между входным и скрытым слоями\n",
        "weights_1_2 = (2 * np.random.random((hidden_size, num_labels)) - 1) / np.sqrt(hidden_size)  # веса между скрытым и выходным слоями\n",
        "\n",
        "for iteration in range(iterations):\n",
        "    error = 0\n",
        "    for i in range(len(X_train_vec[:1000])): #обновление весов для каждого пример\n",
        "        # forward pass\n",
        "        layer_0 = X_train_vec[i:i + 1]\n",
        "        layer_1 = relu(np.dot(layer_0, weights_0_1))\n",
        "\n",
        "        dropout_mask = np.zeros((layer_1.shape[0], layer_1.shape[1])) # add dropout mask, p=0,5\n",
        "        dropout_count = 0\n",
        "\n",
        "        for i in range(layer_1.shape[0]):\n",
        "            for j in range(layer_1.shape[1]):\n",
        "                if np.random.rand() < p:\n",
        "                    dropout_mask[i][j] = 1\n",
        "                    dropout_count += 1\n",
        "                else:\n",
        "                    dropout_mask[i][j] = 0\n",
        "\n",
        "        dropout_mask = dropout_mask.astype(float)\n",
        "\n",
        "        layer_1 *= dropout_mask  # applying dropout to layer_1\n",
        "        layer_2 = np.dot(layer_1, weights_1_2)\n",
        "\n",
        "        error += np.sum((layer_2 - train_y[i:i + 1]) ** 2)\n",
        "\n",
        "        # backward pass\n",
        "        layer_2_delta = 2 * (layer_2 - train_y[i:i + 1])\n",
        "        weight_1_2_corrections = layer_1.T.dot(layer_2_delta)  # величина коррекции для весов между layer_1 и layer_2\n",
        "\n",
        "        layer_1_delta = layer_2_delta.dot(weights_1_2.T) * relu2deriv(layer_1)\n",
        "        weight_0_1_corrections = layer_0.T.dot(layer_1_delta)\n",
        "\n",
        "        weights_1_2 -= learning_rate * weight_1_2_corrections\n",
        "        weights_0_1 -= learning_rate * weight_0_1_corrections\n",
        "\n",
        "    if (iteration % 2 != 0):\n",
        "      train_error_hist.append(error)\n",
        "      iteration_hist.append(iteration)\n",
        "      goal_idx = np.argmax(train_y[:100], axis=1)\n",
        "      y_pred = model_prediction(X_train_vec[:100], weights_0_1, weights_1_2, dropout_mask, p)\n",
        "      pred_idx = np.argmax(y_pred, axis=1)\n",
        "      acc = accuracy_score(goal_idx, pred_idx)\n",
        "      train_accuracy_hist.append(acc)\n",
        "      print(f\"Iteration {iteration + 1} \\nError: {str(error)} \\nАcc: {str(acc)}\")\n",
        "      print()\n",
        "\n",
        "print(dropout_count / (layer_1.shape[0]*layer_1.shape[1]))\n",
        "print('\\nDropout mask', dropout_mask)"
      ],
      "metadata": {
        "id": "sudP-EaaBjxq"
      },
      "execution_count": null,
      "outputs": []
    },
    {
      "cell_type": "markdown",
      "source": [
        "Постройте графики функции потерь и accuracy на обучающей выборке"
      ],
      "metadata": {
        "id": "--8GAaB1ASKf"
      }
    },
    {
      "cell_type": "code",
      "source": [
        "fig, ax = plt.subplots(1, 2, figsize=(10.5, 4.5), constrained_layout=True)\n",
        "\n",
        "error_range = np.linspace(0.15, 0)\n",
        "\n",
        "ax[0].set_title('Train Accuracy', size=14)\n",
        "ax[0].set_xlabel('Epochs', size=12)\n",
        "ax[0].set_ylabel('Accuracy', size=12)\n",
        "ax[1].set_title('Train Error', size=14)\n",
        "ax[1].set_xlabel('Epochs', size=12)\n",
        "ax[1].set_ylabel('Error', size=12)\n",
        "\n",
        "ax[0].plot(iteration_hist, train_accuracy_hist)\n",
        "ax[1].plot(iteration_hist, train_error_hist)\n",
        "ax[0].grid()\n",
        "ax[1].grid()"
      ],
      "metadata": {
        "id": "9Q_69u3RALD2"
      },
      "execution_count": null,
      "outputs": []
    },
    {
      "cell_type": "markdown",
      "source": [
        "Обучение стохастическим градиентным спуском по мини-батчам c применением DropOut"
      ],
      "metadata": {
        "id": "Rndg8Y0x-Nvr"
      }
    },
    {
      "cell_type": "code",
      "source": [
        "np.random.seed(1)\n",
        "\n",
        "# Определение гиперпараметров\n",
        "learning_rate=0.005 #скорость обучения\n",
        "hidden_size = 128 #кол-во нейронов на скрытом слое\n",
        "epochs=15 #число эпох\n",
        "batch_size=32 #количество батчей\n",
        "batch_n = len(train_y) // batch_size\n",
        "p = 0.5\n",
        "\n",
        "weights_0_1 = 2*np.random.random((784,hidden_size)) - 1 #веса между входным и скрытым слоями\n",
        "weights_1_2 = 2*np.random.random((hidden_size,10)) - 1 #веса между скрытым и выходным слоями\n",
        "\n",
        "# Создаем списки для хранения значений ошибки и точности на каждой итерации\n",
        "test_error_hist = []\n",
        "train_error_hist = []\n",
        "train_accuracy_hist = []\n",
        "test_accuracy_hist = []\n",
        "\n",
        "# Обратное распространение ошибки\n",
        "for epoch in range(epochs):\n",
        "    # Перемешиваем данные\n",
        "    indices = np.random.permutation(len(X_train_vec))\n",
        "    X_train_shuffled = X_train_vec[indices]\n",
        "    train_y_shuffled = train_y[indices]\n",
        "\n",
        "    # SGD с мини-батчами\n",
        "    for n in range(batch_n):\n",
        "      # Forward pass\n",
        "      input = X_train_shuffled[n*batch_size:n*batch_size + batch_size]\n",
        "      target = train_y_shuffled[n*batch_size:n*batch_size + batch_size]\n",
        "\n",
        "      # Forward pass\n",
        "      layer_0 = input\n",
        "      layer_1 = relu(np.dot(layer_0, weights_0_1))\n",
        "      dropout_mask = np.zeros((layer_1.shape[0], layer_1.shape[1])) # add dropout mask, p=0,5\n",
        "      dropout_count = 0\n",
        "\n",
        "      for i in range(layer_1.shape[0]):\n",
        "          for j in range(layer_1.shape[1]):\n",
        "              if np.random.rand() < p:\n",
        "                  dropout_mask[i][j] = 1\n",
        "                  dropout_count += 1\n",
        "              else:\n",
        "                  dropout_mask[i][j] = 0\n",
        "\n",
        "      dropout_mask = dropout_mask.astype(float)\n",
        "      layer_1 *= dropout_mask  # applying dropout to layer_1\n",
        "      layer_1 /= (1 - p)  # invert dropout during testing\n",
        "      layer_2 = softmax(np.dot(layer_1, weights_1_2)) # vector of predictions for each sample\n",
        "\n",
        "      # Backward pass\n",
        "      layer_2_delta = layer_2 - target\n",
        "      weight_1_2_corrections = np.dot(layer_1.T, layer_2_delta)\n",
        "\n",
        "      layer_1_delta = layer_2_delta.dot(weights_1_2.T) * relu2deriv(layer_1)\n",
        "      weight_0_1_corrections = np.dot(layer_0.T, layer_1_delta)\n",
        "\n",
        "      # Обновление весов\n",
        "      weights_1_2 -= learning_rate * weight_1_2_corrections\n",
        "      weights_0_1 -= learning_rate * weight_0_1_corrections\n",
        "\n",
        "    #Тестирование на обучающем наборе данных\n",
        "    train_layer_1 = relu(np.dot(X_train_vec, weights_0_1))\n",
        "    train_output = softmax(np.dot(train_layer_1, weights_1_2))\n",
        "\n",
        "    # Оценка точности на обучающем наборе\n",
        "    train_predictions = np.argmax(train_output, axis=1)\n",
        "    train_true_labels = np.argmax(train_y, axis=1)\n",
        "    train_accuracy = accuracy_score(train_true_labels, train_predictions)\n",
        "\n",
        "    # Ошибка на обучающем наборе\n",
        "    train_error = np.mean(-np.log(train_output[range(len(train_output)), np.argmax(train_y, axis=1)])) #cross-entropy\n",
        "    train_error_hist.append(train_error)\n",
        "    train_accuracy_hist.append(train_accuracy)\n",
        "\n",
        "    # Тестирование на тестовом наборе данных\n",
        "    test_layer_1 = relu(np.dot(X_test_vec, weights_0_1))\n",
        "    test_output = softmax(np.dot(test_layer_1, weights_1_2))\n",
        "\n",
        "    # Оценка точности на тестовом наборе\n",
        "    test_predictions = np.argmax(test_output, axis=1)\n",
        "    test_true_labels = np.argmax(test_y, axis=1)\n",
        "    test_accuracy = accuracy_score(test_true_labels, test_predictions)\n",
        "\n",
        "    # Ошибка на тестовом наборе\n",
        "    test_error = np.mean(-np.log(test_output[range(len(test_output)), np.argmax(test_y, axis=1)]))\n",
        "    test_error_hist.append(test_error)\n",
        "    test_accuracy_hist.append(test_accuracy)\n",
        "\n",
        "    # Вывод результатов\n",
        "    print(f'Epoch {epoch + 1}/{epochs}, \\nTrain Accuracy: {train_accuracy}, \\nTest Accuracy: {test_accuracy}, \\nTrain Error: {train_error}, \\nTest Error: {test_error}')\n",
        "    print()"
      ],
      "metadata": {
        "colab": {
          "base_uri": "https://localhost:8080/"
        },
        "id": "6EAGUEJ0-RLa",
        "outputId": "514695b6-eccc-4a6b-9708-6ebc316385d7"
      },
      "execution_count": 10,
      "outputs": [
        {
          "output_type": "stream",
          "name": "stdout",
          "text": [
            "Epoch 1/15, \n",
            "Train Accuracy: 0.87245, \n",
            "Test Accuracy: 0.8696, \n",
            "Train Error: 0.4304589844847245, \n",
            "Test Error: 0.4356864592932956\n",
            "\n",
            "Epoch 2/15, \n",
            "Train Accuracy: 0.8962, \n",
            "Test Accuracy: 0.8942, \n",
            "Train Error: 0.34785898979037355, \n",
            "Test Error: 0.34816586254385035\n",
            "\n",
            "Epoch 3/15, \n",
            "Train Accuracy: 0.91765, \n",
            "Test Accuracy: 0.915, \n",
            "Train Error: 0.2826409219313461, \n",
            "Test Error: 0.28995488598649505\n",
            "\n",
            "Epoch 4/15, \n",
            "Train Accuracy: 0.9257166666666666, \n",
            "Test Accuracy: 0.9222, \n",
            "Train Error: 0.2549268640565517, \n",
            "Test Error: 0.26547308153929566\n",
            "\n",
            "Epoch 5/15, \n",
            "Train Accuracy: 0.9298333333333333, \n",
            "Test Accuracy: 0.9274, \n",
            "Train Error: 0.23646656498021837, \n",
            "Test Error: 0.25491471138807664\n",
            "\n",
            "Epoch 6/15, \n",
            "Train Accuracy: 0.9326833333333333, \n",
            "Test Accuracy: 0.9281, \n",
            "Train Error: 0.2227069827173151, \n",
            "Test Error: 0.2390045409895149\n",
            "\n",
            "Epoch 7/15, \n",
            "Train Accuracy: 0.9356833333333333, \n",
            "Test Accuracy: 0.9305, \n",
            "Train Error: 0.2105942900603576, \n",
            "Test Error: 0.23078290331793877\n",
            "\n",
            "Epoch 8/15, \n",
            "Train Accuracy: 0.94135, \n",
            "Test Accuracy: 0.9377, \n",
            "Train Error: 0.20015616213209522, \n",
            "Test Error: 0.22164937504600352\n",
            "\n",
            "Epoch 9/15, \n",
            "Train Accuracy: 0.9424, \n",
            "Test Accuracy: 0.9351, \n",
            "Train Error: 0.1907911261823936, \n",
            "Test Error: 0.2184633628194461\n",
            "\n",
            "Epoch 10/15, \n",
            "Train Accuracy: 0.9439166666666666, \n",
            "Test Accuracy: 0.9384, \n",
            "Train Error: 0.1853257825779219, \n",
            "Test Error: 0.21170015518432989\n",
            "\n",
            "Epoch 11/15, \n",
            "Train Accuracy: 0.94775, \n",
            "Test Accuracy: 0.9419, \n",
            "Train Error: 0.17518078506297916, \n",
            "Test Error: 0.2013655360433657\n",
            "\n",
            "Epoch 12/15, \n",
            "Train Accuracy: 0.9502666666666667, \n",
            "Test Accuracy: 0.9439, \n",
            "Train Error: 0.16587926806453873, \n",
            "Test Error: 0.19263205715428658\n",
            "\n",
            "Epoch 13/15, \n",
            "Train Accuracy: 0.9543, \n",
            "Test Accuracy: 0.9461, \n",
            "Train Error: 0.15341500182620005, \n",
            "Test Error: 0.1873103915888519\n",
            "\n",
            "Epoch 14/15, \n",
            "Train Accuracy: 0.9538166666666666, \n",
            "Test Accuracy: 0.9442, \n",
            "Train Error: 0.15643298650881343, \n",
            "Test Error: 0.18786249413059455\n",
            "\n",
            "Epoch 15/15, \n",
            "Train Accuracy: 0.9556, \n",
            "Test Accuracy: 0.9475, \n",
            "Train Error: 0.15041288387837082, \n",
            "Test Error: 0.18410694880376924\n",
            "\n"
          ]
        }
      ]
    },
    {
      "cell_type": "markdown",
      "source": [
        "Постройте графики функции потерь и accuracy для двух выборок."
      ],
      "metadata": {
        "id": "_ctjI3Viedws"
      }
    },
    {
      "cell_type": "code",
      "execution_count": 11,
      "metadata": {
        "id": "fob3kP4DWv-n",
        "colab": {
          "base_uri": "https://localhost:8080/",
          "height": 877
        },
        "outputId": "e5e99833-e2f6-412c-b8d0-f84bf22af30a"
      },
      "outputs": [
        {
          "output_type": "display_data",
          "data": {
            "text/plain": [
              "<Figure size 1200x1000 with 4 Axes>"
            ],
            "image/png": "[encoded data removed]"
          },
          "metadata": {}
        }
      ],
      "source": [
        "fig, ax = plt.subplots(2,2, figsize=(12, 10))\n",
        "\n",
        "plt.subplots_adjust(wspace=0.5, hspace=0.5)\n",
        "\n",
        "ax[0,0].set_title('Train Accuracy', size=14)\n",
        "ax[0,0].set_xlabel('Epochs', size=12)\n",
        "ax[0,0].set_ylabel('Accuracy', size=12)\n",
        "ax[0,1].set_title('Test Accuracy', size=14)\n",
        "ax[0,1].set_xlabel('Epochs', size=12)\n",
        "ax[0,1].set_ylabel('Accuracy', size=12)\n",
        "ax[1,0].set_title('Train Error', size=14)\n",
        "ax[1,0].set_xlabel('Epochs', size=12)\n",
        "ax[1,0].set_ylabel('Error', size=12)\n",
        "ax[1,1].set_title('Test Error', size=14)\n",
        "ax[1,1].set_xlabel('Epochs', size=12)\n",
        "ax[1,1].set_ylabel('Error', size=12)\n",
        "\n",
        "ax[0,0].plot(range(1, epochs+1), train_accuracy_hist)\n",
        "ax[0,1].plot(range(1, epochs+1), test_accuracy_hist)\n",
        "ax[1,0].plot(range(1, epochs+1), train_error_hist)\n",
        "ax[1,1].plot(range(1, epochs+1), test_error_hist)\n",
        "ax[0,0].grid()\n",
        "ax[0,1].grid()\n",
        "ax[1,0].grid()\n",
        "ax[1,1].grid()"
      ]
    },
    {
      "cell_type": "markdown",
      "source": [
        "Можно ли поставить слой дропаут после выходного слоя?"
      ],
      "metadata": {
        "id": "D1qgolXvfHQh"
      }
    },
    {
      "cell_type": "code",
      "source": [
        "def ddropout_mask(h, w):\n",
        "  dropout_mask = np.zeros((h, w))\n",
        "  dropout_count = 0\n",
        "\n",
        "  for i in range(h):\n",
        "      for j in range(w):\n",
        "          if np.random.rand() < p:\n",
        "              dropout_mask[i][j] = 1\n",
        "              dropout_count += 1\n",
        "          else:\n",
        "              dropout_mask[i][j] = 0\n",
        "\n",
        "  dropout_mask = dropout_mask.astype(float)\n",
        "  return dropout_mask, dropout_count"
      ],
      "metadata": {
        "id": "lEsJlbnCYuJQ"
      },
      "execution_count": 12,
      "outputs": []
    },
    {
      "cell_type": "code",
      "source": [
        "# Обратное распространение ошибки\n",
        "for epoch in range(epochs):\n",
        "    # Перемешиваем данные\n",
        "    indices = np.random.permutation(len(X_train_vec))\n",
        "    X_train_shuffled = X_train_vec[indices]\n",
        "    train_y_shuffled = train_y[indices]\n",
        "\n",
        "    # SGD с мини-батчами\n",
        "    for n in range(batch_n):\n",
        "      # Forward pass\n",
        "      input = X_train_shuffled[n*batch_size:n*batch_size + batch_size]\n",
        "      target = train_y_shuffled[n*batch_size:n*batch_size + batch_size]\n",
        "\n",
        "      # Forward pass\n",
        "      layer_0 = input\n",
        "      layer_1 = relu(np.dot(layer_0, weights_0_1))\n",
        "      dropout_mask, dropout_count = ddropout_mask(layer_1.shape[0], layer_1.shape[1])\n",
        "\n",
        "      layer_1 *= dropout_mask  # applying dropout to layer_1\n",
        "      layer_1 /= (1 - p)  # invert dropout during testing\n",
        "      layer_2 = softmax(np.dot(layer_1, weights_1_2)) # vector of predictions for each sample\n",
        "\n",
        "      # Backward pass\n",
        "      dropout_mask, dropout_count = ddropout_mask(layer_2.shape[0], layer_2.shape[1])\n",
        "      layer_2 *= dropout_mask  # applying dropout to layer_2\n",
        "      layer_2 /= (1 - p)  # invert dropout during testing\n",
        "      layer_2_delta = layer_2 - target\n",
        "      weight_1_2_corrections = np.dot(layer_1.T, layer_2_delta)\n",
        "\n",
        "      layer_1_delta = layer_2_delta.dot(weights_1_2.T) * relu2deriv(layer_1)\n",
        "      weight_0_1_corrections = np.dot(layer_0.T, layer_1_delta)\n",
        "\n",
        "      # Обновление весов\n",
        "      weights_1_2 -= learning_rate * weight_1_2_corrections\n",
        "      weights_0_1 -= learning_rate * weight_0_1_corrections\n",
        "\n",
        "    #Тестирование на обучающем наборе данных\n",
        "    train_layer_1 = relu(np.dot(X_train_vec, weights_0_1))\n",
        "    train_output = softmax(np.dot(train_layer_1, weights_1_2))\n",
        "\n",
        "    # Оценка точности на обучающем наборе\n",
        "    train_predictions = np.argmax(train_output, axis=1)\n",
        "    train_true_labels = np.argmax(train_y, axis=1)\n",
        "    train_accuracy = accuracy_score(train_true_labels, train_predictions)\n",
        "\n",
        "    # Ошибка на обучающем наборе\n",
        "    train_error = np.mean(-np.log(train_output[range(len(train_output)), np.argmax(train_y, axis=1)])) #cross-entropy\n",
        "    train_error_hist.append(train_error)\n",
        "    train_accuracy_hist.append(train_accuracy)\n",
        "\n",
        "    # Тестирование на тестовом наборе данных\n",
        "    test_layer_1 = relu(np.dot(X_test_vec, weights_0_1))\n",
        "    test_output = softmax(np.dot(test_layer_1, weights_1_2))\n",
        "\n",
        "    # Оценка точности на тестовом наборе\n",
        "    test_predictions = np.argmax(test_output, axis=1)\n",
        "    test_true_labels = np.argmax(test_y, axis=1)\n",
        "    test_accuracy = accuracy_score(test_true_labels, test_predictions)\n",
        "\n",
        "    # Ошибка на тестовом наборе\n",
        "    test_error = np.mean(-np.log(test_output[range(len(test_output)), np.argmax(test_y, axis=1)]))\n",
        "    test_error_hist.append(test_error)\n",
        "    test_accuracy_hist.append(test_accuracy)\n",
        "\n",
        "    # Вывод результатов\n",
        "    print(f'Epoch {epoch + 1}/{epochs}, \\nTrain Accuracy: {train_accuracy}, \\nTest Accuracy: {test_accuracy}, \\nTrain Error: {train_error}, \\nTest Error: {test_error}')\n",
        "    print()"
      ],
      "metadata": {
        "id": "RmbPHFFefKSC",
        "colab": {
          "base_uri": "https://localhost:8080/"
        },
        "outputId": "04723e4a-db40-4c51-bb61-c2acb09c0784"
      },
      "execution_count": 15,
      "outputs": [
        {
          "output_type": "stream",
          "name": "stdout",
          "text": [
            "Epoch 1/15, \n",
            "Train Accuracy: 0.9008, \n",
            "Test Accuracy: 0.8961, \n",
            "Train Error: 0.3492553923400852, \n",
            "Test Error: 0.3752225459343767\n",
            "\n",
            "Epoch 2/15, \n",
            "Train Accuracy: 0.8941333333333333, \n",
            "Test Accuracy: 0.8929, \n",
            "Train Error: 0.6170097435799574, \n",
            "Test Error: 0.5942615492983426\n",
            "\n",
            "Epoch 3/15, \n",
            "Train Accuracy: 0.8821666666666667, \n",
            "Test Accuracy: 0.8772, \n",
            "Train Error: 0.5006558193183847, \n",
            "Test Error: 0.5384123325771341\n",
            "\n",
            "Epoch 4/15, \n",
            "Train Accuracy: 0.8807333333333334, \n",
            "Test Accuracy: 0.8731, \n",
            "Train Error: 0.41666919225616555, \n",
            "Test Error: 0.44546393423783376\n",
            "\n",
            "Epoch 5/15, \n",
            "Train Accuracy: 0.87835, \n",
            "Test Accuracy: 0.879, \n",
            "Train Error: 0.4608112085471736, \n",
            "Test Error: 0.48523241068667755\n",
            "\n",
            "Epoch 6/15, \n",
            "Train Accuracy: 0.8831666666666667, \n",
            "Test Accuracy: 0.8796, \n",
            "Train Error: 0.5344259730408888, \n",
            "Test Error: 0.5504742082393994\n",
            "\n",
            "Epoch 7/15, \n",
            "Train Accuracy: 0.8853, \n",
            "Test Accuracy: 0.8783, \n",
            "Train Error: 0.5312857997491397, \n",
            "Test Error: 0.5834732499729977\n",
            "\n",
            "Epoch 8/15, \n",
            "Train Accuracy: 0.8727666666666667, \n",
            "Test Accuracy: 0.8632, \n",
            "Train Error: 0.4560961040281344, \n",
            "Test Error: 0.5022063470740623\n",
            "\n",
            "Epoch 9/15, \n",
            "Train Accuracy: 0.8864166666666666, \n",
            "Test Accuracy: 0.8849, \n",
            "Train Error: 0.42052213553737866, \n",
            "Test Error: 0.44111867758451034\n",
            "\n",
            "Epoch 10/15, \n",
            "Train Accuracy: 0.88825, \n",
            "Test Accuracy: 0.8901, \n",
            "Train Error: 0.5132715680962342, \n",
            "Test Error: 0.527617431369699\n",
            "\n",
            "Epoch 11/15, \n",
            "Train Accuracy: 0.8697833333333334, \n",
            "Test Accuracy: 0.863, \n",
            "Train Error: 0.48285187001326796, \n",
            "Test Error: 0.5196520490087406\n",
            "\n",
            "Epoch 12/15, \n",
            "Train Accuracy: 0.8652, \n",
            "Test Accuracy: 0.8629, \n",
            "Train Error: 0.49032702048926974, \n",
            "Test Error: 0.5014206195708402\n",
            "\n",
            "Epoch 13/15, \n",
            "Train Accuracy: 0.8592833333333333, \n",
            "Test Accuracy: 0.8534, \n",
            "Train Error: 0.4907052849688909, \n",
            "Test Error: 0.523255540160553\n",
            "\n",
            "Epoch 14/15, \n",
            "Train Accuracy: 0.8672833333333333, \n",
            "Test Accuracy: 0.8657, \n",
            "Train Error: 0.5105196828086404, \n",
            "Test Error: 0.5436839185060354\n",
            "\n",
            "Epoch 15/15, \n",
            "Train Accuracy: 0.8482, \n",
            "Test Accuracy: 0.8447, \n",
            "Train Error: 0.5547424031933775, \n",
            "Test Error: 0.5834501257193764\n",
            "\n"
          ]
        }
      ]
    },
    {
      "cell_type": "markdown",
      "source": [
        "Из результатов видно, что использование данной \"модификации\" приводит к снижению точности.\n",
        "\n",
        "Дропаут обычно применяется только к скрытым слоям сети в процессе обучения. Применение dropout после выходного слоя вряд ли будет иметь смысл, так как выходной слой в основном отвечает за предсказания и уже имеет \"встроенное\" снижение переобучения за счет общего ограничения модели и использования функции потерь (например, кросс-энтропии).\n",
        "\n",
        "В нашем примере с датасетом mnist, дропаут зануляет метки класса на выходе с вероятностью р=0.5. Таким образом, модель обучается только на одной части данных."
      ],
      "metadata": {
        "id": "zzg73-nubZiy"
      }
    },
    {
      "cell_type": "markdown",
      "source": [],
      "metadata": {
        "id": "O-OrqhDjdrsh"
      }
    }
  ]
}